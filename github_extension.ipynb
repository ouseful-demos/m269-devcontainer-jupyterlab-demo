{
 "cells": [
  {
   "cell_type": "markdown",
   "id": "ebc3d33c-1a3d-4137-bc14-c6cc9ee1818d",
   "metadata": {},
   "source": [
    "# GitHub extension\n",
    "\n",
    "I'm not sure how it works, but running this environment via a GitHub Codespace, the [`jupyterlab-git` extension](https://github.com/jupyterlab/jupyterlab-git) (see the sidebar) just seems to work... I can track and commit files, and the push...just works!\n",
    "\n",
    "I'm not sure what happens if you try running this in a devcontainer on a l"
   ]
  }
 ],
 "metadata": {
  "kernelspec": {
   "display_name": "Python 3 (ipykernel)",
   "language": "python",
   "name": "python3"
  },
  "language_info": {
   "codemirror_mode": {
    "name": "ipython",
    "version": 3
   },
   "file_extension": ".py",
   "mimetype": "text/x-python",
   "name": "python",
   "nbconvert_exporter": "python",
   "pygments_lexer": "ipython3",
   "version": "3.10.13"
  }
 },
 "nbformat": 4,
 "nbformat_minor": 5
}
