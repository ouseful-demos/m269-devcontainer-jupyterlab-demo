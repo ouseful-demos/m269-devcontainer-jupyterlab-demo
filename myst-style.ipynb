{
 "cells": [
  {
   "cell_type": "markdown",
   "id": "0c725c2a-d19f-48dd-bf50-6c9e04a02c4c",
   "metadata": {},
   "source": [
    "# Rich MyST Markdown\n",
    "\n",
    "The `jupyterlab-myst` extension adds support for various MyST markdown extensions to the Markdown language.\n",
    "\n",
    "*Work appears to be ongoing to parse rich GitHub flavoured markdown extensions as well as the preferrred MyST flavoured syntax.*"
   ]
  },
  {
   "cell_type": "markdown",
   "id": "acbd7a96-eee9-444d-9025-41bffbcabd4f",
   "metadata": {},
   "source": [
    "## Admonition Blocks\n",
    "\n",
    "```{admonition} Admonition blocks\n",
    "\n",
    "Admonition blocks provide a convenient way of preseting highlighted content in variously coloured breakout boxes.\n",
    "\n",
    "```\n",
    "\n",
    "The styling of the block can be defined by setting a `:class:` attribute in the block definition. Collapsible elements are also supported:\n",
    "\n",
    "```{admonition} Warning blocks\n",
    ":class: warning dropdown\n",
    "\n",
    "Present a warning...\n",
    "\n",
    "```\n",
    "\n",
    "\n",
    "```{admonition} Seealso blocks\n",
    ":class: seealso\n",
    "\n",
    "See some extra info...\n",
    "\n",
    "```"
   ]
  },
  {
   "cell_type": "markdown",
   "id": "c571fd66-787a-45ec-a725-9dadc28f00a9",
   "metadata": {},
   "source": [
    "## Diagram Blocks\n",
    "\n",
    "I think that JupyterLab markdown now supports mermaid.js, but MyST has supported [diagrams](https://mystmd.org/guide/diagrams) for some time:\n",
    "\n",
    "```mermaid\n",
    "flowchart LR\n",
    "  A[Jupyter Notebook] --> C\n",
    "  B[MyST Markdown] --> C\n",
    "  C(mystmd) --> D{AST}\n",
    "  D <--> E[LaTeX]\n",
    "  E --> F[PDF]\n",
    "  D --> G[Word]\n",
    "  D --> H[React]\n",
    "  D --> I[HTML]\n",
    "  D <--> J[JATS]\n",
    "```\n"
   ]
  },
  {
   "cell_type": "markdown",
   "id": "2c1b0b0d-44a0-4639-8c18-462277e49e94",
   "metadata": {},
   "source": [
    "## Exercises\n",
    "\n",
    "Exercise blocks follow the Sphinx-Exercise directive syntax."
   ]
  },
  {
   "cell_type": "markdown",
   "id": "75d5441a-7990-412e-a19b-7228d5009a82",
   "metadata": {
    "tags": []
   },
   "source": [
    "```{exercise}\n",
    ":label: my-exercise\n",
    "\n",
    "Recall that $n!$ is read as \"$n$ factorial\" and defined as\n",
    "$n! = n \\times (n - 1) \\times \\cdots \\times 2 \\times 1$.\n",
    "\n",
    "There are functions to compute this in various modules, but let's\n",
    "write our own version as an exercise.\n",
    "\n",
    "In particular, write a function `factorial` such that `factorial(n)` returns $n!$\n",
    "for any positive integer $n$.\n",
    "```"
   ]
  },
  {
   "cell_type": "markdown",
   "id": "1cb77046-2d80-4ade-8983-ed95e096b644",
   "metadata": {},
   "source": [
    "We can use the `:class: dropdown` setting to collapse the question or answer. Click on the header to expand the answer:\n",
    "\n",
    "````{solution} my-exercise\n",
    ":label: my-solution\n",
    ":class: dropdown\n",
    "Here's one solution.\n",
    "\n",
    "```{code-block} python\n",
    "def factorial(n):\n",
    "    k = 1\n",
    "    for i in range(n):\n",
    "        k = k * (i + 1)\n",
    "    return k\n",
    "\n",
    "factorial(4)\n",
    "```\n",
    "````\n",
    "\n",
    "Note that the code is copyable, so it;s easy enough to transfer it to a code cell and then execute it."
   ]
  },
  {
   "cell_type": "code",
   "execution_count": 1,
   "id": "b21d8439-9089-41ba-9b48-2a7cd30f483e",
   "metadata": {
    "tags": [
     "style-student"
    ]
   },
   "outputs": [],
   "source": [
    "# For example, copy the code into here\n",
    "\n",
    "# NOTE: this cell is coloured using the jupyterlab-empinmken-extension\n",
    "# The cell run status indication is provided via the jupyterlab-cell-status extension"
   ]
  },
  {
   "cell_type": "markdown",
   "id": "56dc9b9b-8ebd-43dd-8c92-68517d8de301",
   "metadata": {
    "tags": []
   },
   "source": [
    "```{exercise-start}\n",
    ":label: ex2\n",
    "```\n",
    "Here is some exercise text."
   ]
  },
  {
   "cell_type": "code",
   "execution_count": null,
   "id": "931a27b1-f0f2-48d6-bfae-4d257898b1d7",
   "metadata": {
    "tags": []
   },
   "outputs": [],
   "source": [
    "# Some excutable code inside the exercise"
   ]
  },
  {
   "cell_type": "markdown",
   "id": "a7f527fd-fadd-4741-80fe-b9841e09c86b",
   "metadata": {
    "tags": []
   },
   "source": [
    "End of exercise text\n",
    "\n",
    "```{exercise-end}\n",
    "\n",
    "```"
   ]
  },
  {
   "cell_type": "markdown",
   "id": "1a471b40-0aa7-48bc-a97c-0af63722ac1b",
   "metadata": {},
   "source": [
    "And we can then do the same for the answer:\n",
    "\n",
    "```{solution-start} ex2\n",
    ":label: ex2-solution\n",
    "```"
   ]
  },
  {
   "cell_type": "code",
   "execution_count": null,
   "id": "e830186d-3c1d-46bd-afad-2b1ae8441371",
   "metadata": {},
   "outputs": [],
   "source": [
    "# Some excutable code inside the exercise answer"
   ]
  },
  {
   "cell_type": "markdown",
   "id": "bff9ed1c-6813-4237-8cdc-bf6aa9c65dd1",
   "metadata": {},
   "source": [
    "And some more solution text"
   ]
  },
  {
   "cell_type": "markdown",
   "id": "425110d4-d5a5-4894-9dee-ca3f59de1214",
   "metadata": {},
   "source": [
    "And some more...\n",
    "\n",
    "\n",
    "```{exercise-end}\n",
    "\n",
    "```"
   ]
  },
  {
   "cell_type": "code",
   "execution_count": null,
   "id": "6a300352-6db6-4cf7-8398-3eb318e046de",
   "metadata": {},
   "outputs": [],
   "source": []
  }
 ],
 "metadata": {
  "kernelspec": {
   "display_name": "Python 3 (ipykernel)",
   "language": "python",
   "name": "python3"
  },
  "language_info": {
   "codemirror_mode": {
    "name": "ipython",
    "version": 3
   },
   "file_extension": ".py",
   "mimetype": "text/x-python",
   "name": "python",
   "nbconvert_exporter": "python",
   "pygments_lexer": "ipython3",
   "version": "3.10.13"
  }
 },
 "nbformat": 4,
 "nbformat_minor": 5
}
