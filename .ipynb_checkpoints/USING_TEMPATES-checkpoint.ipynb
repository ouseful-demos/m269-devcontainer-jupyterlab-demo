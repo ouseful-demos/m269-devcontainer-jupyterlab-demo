{
 "cells": [
  {
   "cell_type": "markdown",
   "id": "f60aceca-d605-41de-958d-fecc99ec57b5",
   "metadata": {},
   "source": [
    "# Using Templates\n",
    "\n",
    "The [`jupyterlab-templates`](https://github.com/finos/jupyterlab_templates) package provides a way of serving template notebooks in a JupyterLab environment from default or specified template directories.\n",
    "\n",
    "If the VCE shipped the JupyterLab user interface, we could also copy template notebooks into appropriate locations as part of the VCE distribution.\n",
    "\n",
    "Templated notebooks can be launched from the JupyterLab launcher."
   ]
  },
  {
   "cell_type": "markdown",
   "id": "1b6fb40f-7007-4652-9a0e-14158785c956",
   "metadata": {},
   "source": [
    "The following quick hack will copy a couple of template notebooks pinched from [`dsa-ou/algoesup`](https://github.com/dsa-ou/algoesup/tree/main/Deepnote) into the default location. If you run the cell then refresh the browser window the templates button in the launcher should offer the new `m269-templates` template options."
   ]
  },
  {
   "cell_type": "code",
   "execution_count": 7,
   "id": "46e0443e-76ac-476d-a2ae-168e7674f07e",
   "metadata": {},
   "outputs": [],
   "source": [
    "%%bash\n",
    "mkdir -p `jupyter --data-dir`/notebook_templates/m269-templates\n",
    "cp template-*.ipynb `jupyter --data-dir`/notebook_templates/m269-templates/"
   ]
  },
  {
   "cell_type": "code",
   "execution_count": 12,
   "id": "231aea1b-102d-4351-a82c-0fd6f9cb6d92",
   "metadata": {},
   "outputs": [
    {
     "name": "stdout",
     "output_type": "stream",
     "text": [
      "m269-templates\n"
     ]
    }
   ],
   "source": [
    "!ls `jupyter --data-dir`/notebook_templates/"
   ]
  },
  {
   "cell_type": "code",
   "execution_count": null,
   "id": "f87231b1-e3c5-4a5e-a43f-b518f09cffe5",
   "metadata": {},
   "outputs": [],
   "source": []
  }
 ],
 "metadata": {
  "kernelspec": {
   "display_name": "Python 3 (ipykernel)",
   "language": "python",
   "name": "python3"
  },
  "language_info": {
   "codemirror_mode": {
    "name": "ipython",
    "version": 3
   },
   "file_extension": ".py",
   "mimetype": "text/x-python",
   "name": "python",
   "nbconvert_exporter": "python",
   "pygments_lexer": "ipython3",
   "version": "3.10.13"
  }
 },
 "nbformat": 4,
 "nbformat_minor": 5
}
